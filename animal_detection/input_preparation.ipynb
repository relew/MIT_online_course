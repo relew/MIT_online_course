{
 "cells": [
  {
   "cell_type": "code",
   "execution_count": 76,
   "id": "43720352-1a55-410e-8bda-53f0ac5d3a4d",
   "metadata": {},
   "outputs": [],
   "source": [
    "import torch \n",
    "DEVICE = \"cuda\" if torch.cuda.is_available() else \"cpu\""
   ]
  },
  {
   "cell_type": "code",
   "execution_count": 77,
   "id": "096a14e7-7b5d-423e-b6d3-c8e00696eaac",
   "metadata": {},
   "outputs": [
    {
     "data": {
      "text/plain": [
       "'NVIDIA GeForce MX150'"
      ]
     },
     "execution_count": 77,
     "metadata": {},
     "output_type": "execute_result"
    }
   ],
   "source": [
    "torch.cuda.get_device_name(id)"
   ]
  },
  {
   "cell_type": "code",
   "execution_count": 78,
   "id": "cddb3c57-1b6d-4252-80b1-8d3ac0792e57",
   "metadata": {},
   "outputs": [],
   "source": [
    "new_label_map = {\n",
    "    '2': '0',\n",
    "    '6': '1',\n",
    "    '7': '2',\n",
    "    '9': '3',\n",
    "    '11': '4',\n",
    "    '12': '5',\n",
    "    '14': '6',\n",
    "    '16': '7',\n",
    "}"
   ]
  },
  {
   "cell_type": "markdown",
   "id": "3f00b9ec-ab40-48b3-adb9-542a43eed743",
   "metadata": {},
   "source": [
    "# clean dataset and create new label files and test,train .csv"
   ]
  },
  {
   "cell_type": "code",
   "execution_count": 79,
   "id": "7f00c156-364b-473f-89d4-192fe2d0ba35",
   "metadata": {},
   "outputs": [
    {
     "name": "stdout",
     "output_type": "stream",
     "text": [
      "put 2 labels and their images into test_new.csv\n",
      "put 6 labels and their images into test_new.csv\n",
      "put 7 labels and their images into test_new.csv\n",
      "put 9 labels and their images into test_new.csv\n",
      "put 11 labels and their images into test_new.csv\n",
      "put 12 labels and their images into test_new.csv\n",
      "put 14 labels and their images into test_new.csv\n",
      "put 16 labels and their images into test_new.csv\n"
     ]
    }
   ],
   "source": [
    "import os\n",
    "import csv\n",
    "import string\n",
    "\n",
    "label_directory = '/mnt/c/Projects/animal_detection/PASCAL_VOC/labels'\n",
    "\n",
    "delete_ints = ['0','1','3','4','5','8','10','13','15','17','18','19']\n",
    "keep_ints = ['2','6','7','9','11','12','14','16']\n",
    "keep_dict = {}\n",
    "\n",
    "\n",
    "#loop keeping ints\n",
    "for intx in keep_ints:\n",
    "    #print(f\"delete {intx} labels and their images\")\n",
    "    print(f\"put {intx} labels and their images into test_new.csv\")\n",
    "    label_quantity = 0\n",
    "    label_keep_list = []\n",
    "\n",
    "    #loop label .txts\n",
    "    for file in os.listdir(label_directory):\n",
    "        txt_content = open(f'{label_directory}/{file}').read().split()\n",
    "\n",
    "        #check if keep ints in the label.txt\n",
    "        if intx in txt_content:\n",
    "            label_quantity = label_quantity+1\n",
    "            \n",
    "            image_name = file[:-4] + \".jpg\"\n",
    "            row_string = image_name + \",\" + file\n",
    "            label_keep_list.append([row_string])\n",
    "            #print(row_string,txt_content)\n",
    "\n",
    "            #check if delete ints in the label.txt\n",
    "            for del_intx in delete_ints:\n",
    "                while del_intx in txt_content:\n",
    "                    delete_index = txt_content.index(del_intx)\n",
    "                    txt_content = txt_content[:delete_index] + txt_content[delete_index+5:]\n",
    "                    #print(\"DEEEEEEELLLEEEEEEEETTTTTEEEEEEEEE\",txt_content)\n",
    "\n",
    "            #remap labels\n",
    "            txt_content = [new_label_map.get(item, item) for item in txt_content]\n",
    "\n",
    "            \n",
    "            #save label file\n",
    "            with open(f'/mnt/c/Projects/animal_detection/PASCAL_VOC/labels4/{file}', 'w') as f:\n",
    "                index = 0\n",
    "\n",
    "                while index in list(range(0,len(txt_content))):\n",
    "            \n",
    "                    content_line = txt_content[index:index+5]\n",
    "                    #print(\"write_line:\",content_line)\n",
    "                    f.write(str(content_line).replace('[', '').replace(']', '')\\\n",
    "                                             .replace(\"'\", \"\").replace(\",\", \"\") + '\\n')\n",
    "                    index += 5\n",
    "            \n",
    "    keep_dict[intx]={label_quantity:tuple(label_keep_list)}"
   ]
  },
  {
   "cell_type": "code",
   "execution_count": 80,
   "id": "30247ca2-356a-479d-8d93-0693f0f39dcc",
   "metadata": {},
   "outputs": [],
   "source": [
    "def train_test_split(dicx,train_perc):\n",
    "    print(\"manual train_test_split\")\n",
    "    for keyx in dicx.keys():\n",
    "\n",
    "        for label_num in dicx[keyx].keys():\n",
    "\n",
    "            train_num = int(label_num * train_perc)\n",
    "            print(\"**************************************************************\")\n",
    "            print(\"label:\",keyx,\"total_input_num\",label_num,\"split_perc\",train_perc)\n",
    "            all_input = list(dicx[keyx][label_num])\n",
    "    \n",
    "            train_input = all_input[:train_num]\n",
    "            test_input = all_input[train_num:]\n",
    "    \n",
    "            print(\"number of train image inputs\",len(train_input),\"number of test image inputs\",len(test_input))\n",
    "            try:\n",
    "                train_input_complete = train_input_complete + train_input\n",
    "                test_input_complete = test_input_complete + test_input\n",
    "\n",
    "            except:\n",
    "                train_input_complete = train_input\n",
    "                test_input_complete = test_input\n",
    "        \n",
    "    return train_input_complete,test_input_complete"
   ]
  },
  {
   "cell_type": "code",
   "execution_count": 151,
   "id": "9664823d-beb4-4c45-935f-abaaaa3b9810",
   "metadata": {},
   "outputs": [
    {
     "name": "stdout",
     "output_type": "stream",
     "text": [
      "manual train_test_split\n",
      "**************************************************************\n",
      "label: 2 total_input_num 1377 split_perc 0.8\n",
      "number of train image inputs 1101 number of test image inputs 276\n",
      "**************************************************************\n",
      "label: 6 total_input_num 2595 split_perc 0.8\n",
      "number of train image inputs 2076 number of test image inputs 519\n",
      "**************************************************************\n",
      "label: 7 total_input_num 1739 split_perc 0.8\n",
      "number of train image inputs 1391 number of test image inputs 348\n",
      "**************************************************************\n",
      "label: 9 total_input_num 571 split_perc 0.8\n",
      "number of train image inputs 456 number of test image inputs 115\n",
      "**************************************************************\n",
      "label: 11 total_input_num 2125 split_perc 0.8\n",
      "number of train image inputs 1700 number of test image inputs 425\n",
      "**************************************************************\n",
      "label: 12 total_input_num 1043 split_perc 0.8\n",
      "number of train image inputs 834 number of test image inputs 209\n",
      "**************************************************************\n",
      "label: 14 total_input_num 8102 split_perc 0.8\n",
      "number of train image inputs 6481 number of test image inputs 1621\n",
      "**************************************************************\n",
      "label: 16 total_input_num 518 split_perc 0.8\n",
      "number of train image inputs 414 number of test image inputs 104\n"
     ]
    }
   ],
   "source": [
    "train_input_complete,test_input_complete = train_test_split(dicx = keep_dict,train_perc = 0.8)"
   ]
  },
  {
   "cell_type": "code",
   "execution_count": 139,
   "id": "9de0cbe7-2b97-459e-b769-138b8094008b",
   "metadata": {},
   "outputs": [],
   "source": [
    "# test_input_complete_noduplicate = [i for n, i in enumerate(test_input_complete) if i not in test_input_complete[:n]]\n",
    "# train_input_complete_noduplicate = [i for n, i in enumerate(train_input_complete) if i not in train_input_complete[:n]]"
   ]
  },
  {
   "cell_type": "markdown",
   "id": "2f7b2e39-e373-472a-9a0d-93fb29286a58",
   "metadata": {},
   "source": [
    "# Save train-test inputs w duplications"
   ]
  },
  {
   "cell_type": "code",
   "execution_count": 157,
   "id": "d8ffa180-ec1b-4d9a-b452-5be9ae497055",
   "metadata": {},
   "outputs": [],
   "source": [
    "# opening the csv file in 'w+' mode\n",
    "file = open('train_new.csv', 'w+', newline ='')\n",
    " \n",
    "# writing the data into the file\n",
    "with file:    \n",
    "    write = csv.writer(file)\n",
    "    write.writerows(train_input_complete)"
   ]
  },
  {
   "cell_type": "code",
   "execution_count": 158,
   "id": "663e8cb7-e103-45f2-b15d-409cf8cb64dc",
   "metadata": {},
   "outputs": [],
   "source": [
    "# opening the csv file in 'w+' mode\n",
    "file = open('test_new.csv', 'w+', newline ='')\n",
    " \n",
    "# writing the data into the file\n",
    "with file:    \n",
    "    write = csv.writer(file)\n",
    "    write.writerows(test_input_complete)"
   ]
  },
  {
   "cell_type": "markdown",
   "id": "d0c6a38c-a67f-442f-b800-0a62e2971dff",
   "metadata": {},
   "source": [
    "## Delete duplication from test.csv"
   ]
  },
  {
   "cell_type": "code",
   "execution_count": 202,
   "id": "d501136a-b5ce-406c-a808-ef91f8559fa0",
   "metadata": {},
   "outputs": [],
   "source": [
    "import pandas as pd\n",
    "test_df = pd.read_csv(\"test_new.csv\", names = ['image','label'])\n",
    "train_df = pd.read_csv(\"train_new.csv\", names = ['image','label'])\n",
    "\n",
    "test_df_nod = test_df.drop_duplicates()\n",
    "train_df_nod = train_df.drop_duplicates()\n",
    "\n",
    "dupl_elements_df = pd.merge(test_df_nod, train_df_nod, how='inner', on='image')"
   ]
  },
  {
   "cell_type": "code",
   "execution_count": 203,
   "id": "e9df6400-1e7a-4cca-8754-973e17cc183a",
   "metadata": {},
   "outputs": [],
   "source": [
    "#perform outer join\n",
    "outer = test_df_nod.merge(train_df_nod, how='outer', indicator=True)\n",
    "\n",
    "#perform anti-join\n",
    "test_df_nod2 = outer[(outer._merge=='left_only')].drop('_merge', axis=1)"
   ]
  },
  {
   "cell_type": "code",
   "execution_count": 204,
   "id": "932bc0a2-efc3-4d92-a7cd-4fcf77c1d784",
   "metadata": {},
   "outputs": [
    {
     "data": {
      "text/plain": [
       "(3617, 3179, 3078)"
      ]
     },
     "execution_count": 204,
     "metadata": {},
     "output_type": "execute_result"
    }
   ],
   "source": [
    "len(test_df),len(test_df_nod),len(test_df_nod2)"
   ]
  },
  {
   "cell_type": "code",
   "execution_count": 217,
   "id": "396fa2c3-2ed2-4689-a691-90705346cb17",
   "metadata": {},
   "outputs": [
    {
     "data": {
      "text/plain": [
       "(14453, 12496)"
      ]
     },
     "execution_count": 217,
     "metadata": {},
     "output_type": "execute_result"
    }
   ],
   "source": [
    "len(train_df),len(train_df_nod)"
   ]
  },
  {
   "cell_type": "code",
   "execution_count": 218,
   "id": "f63ea9c4-767c-458d-97e8-8cb8561a069e",
   "metadata": {},
   "outputs": [],
   "source": [
    "test_df_nod2.to_csv(\"test_new_clean.csv\", encoding='utf-8', index=False, header = False)\n",
    "train_df_nod.to_csv(\"train_new_clean.csv\", encoding='utf-8', index=False, header = False)"
   ]
  },
  {
   "cell_type": "markdown",
   "id": "0e85c38e-9648-4f65-a504-d01949ac6e48",
   "metadata": {},
   "source": [
    "# delete unused images"
   ]
  },
  {
   "cell_type": "code",
   "execution_count": 1,
   "id": "ea0d3c5c-bf83-4b8b-8e72-228668150dd1",
   "metadata": {},
   "outputs": [
    {
     "data": {
      "text/plain": [
       "'/mnt/c/Projects/animal_detection'"
      ]
     },
     "execution_count": 1,
     "metadata": {},
     "output_type": "execute_result"
    }
   ],
   "source": [
    "pwd"
   ]
  },
  {
   "cell_type": "code",
   "execution_count": 5,
   "id": "5153ef06-06a9-4a01-ad80-8b3f0105abfb",
   "metadata": {},
   "outputs": [
    {
     "data": {
      "text/html": [
       "<div>\n",
       "<style scoped>\n",
       "    .dataframe tbody tr th:only-of-type {\n",
       "        vertical-align: middle;\n",
       "    }\n",
       "\n",
       "    .dataframe tbody tr th {\n",
       "        vertical-align: top;\n",
       "    }\n",
       "\n",
       "    .dataframe thead th {\n",
       "        text-align: right;\n",
       "    }\n",
       "</style>\n",
       "<table border=\"1\" class=\"dataframe\">\n",
       "  <thead>\n",
       "    <tr style=\"text-align: right;\">\n",
       "      <th></th>\n",
       "      <th>image</th>\n",
       "      <th>label</th>\n",
       "    </tr>\n",
       "  </thead>\n",
       "  <tbody>\n",
       "    <tr>\n",
       "      <th>0</th>\n",
       "      <td>2009_004898.jpg</td>\n",
       "      <td>2009_004898.txt</td>\n",
       "    </tr>\n",
       "    <tr>\n",
       "      <th>1</th>\n",
       "      <td>2009_004946.jpg</td>\n",
       "      <td>2009_004946.txt</td>\n",
       "    </tr>\n",
       "    <tr>\n",
       "      <th>2</th>\n",
       "      <td>2009_004959.jpg</td>\n",
       "      <td>2009_004959.txt</td>\n",
       "    </tr>\n",
       "    <tr>\n",
       "      <th>3</th>\n",
       "      <td>2009_004996.jpg</td>\n",
       "      <td>2009_004996.txt</td>\n",
       "    </tr>\n",
       "    <tr>\n",
       "      <th>4</th>\n",
       "      <td>2009_005040.jpg</td>\n",
       "      <td>2009_005040.txt</td>\n",
       "    </tr>\n",
       "  </tbody>\n",
       "</table>\n",
       "</div>"
      ],
      "text/plain": [
       "             image            label\n",
       "0  2009_004898.jpg  2009_004898.txt\n",
       "1  2009_004946.jpg  2009_004946.txt\n",
       "2  2009_004959.jpg  2009_004959.txt\n",
       "3  2009_004996.jpg  2009_004996.txt\n",
       "4  2009_005040.jpg  2009_005040.txt"
      ]
     },
     "execution_count": 5,
     "metadata": {},
     "output_type": "execute_result"
    }
   ],
   "source": [
    "import pandas as pd\n",
    "\n",
    "test_df = pd.read_csv(\"test2.csv\", names = ['image','label'])\n",
    "train_df = pd.read_csv(\"train2.csv\", names = ['image','label'])\n",
    "all_df = pd.concat([test_df,train_df])\n",
    "all_df.head()"
   ]
  },
  {
   "cell_type": "code",
   "execution_count": 30,
   "id": "07dee9ec-6130-446b-af7d-9b98469a3a54",
   "metadata": {},
   "outputs": [
    {
     "data": {
      "text/plain": [
       "18070"
      ]
     },
     "execution_count": 30,
     "metadata": {},
     "output_type": "execute_result"
    }
   ],
   "source": [
    "used_images_list = all_df['image'].tolist()\n",
    "len(used_images_list)"
   ]
  },
  {
   "cell_type": "code",
   "execution_count": 28,
   "id": "545fa3c3-1c66-4b33-8994-3d5a4cd6fb9a",
   "metadata": {},
   "outputs": [],
   "source": [
    "import os\n",
    "\n",
    "image_directory = '/mnt/c/Projects/animal_detection/PASCAL_VOC/images2'\n",
    "\n",
    "for file in os.listdir(image_directory):\n",
    "        if file not in used_images_list:\n",
    "            os.system(\"rm \" f\"{image_directory}/{file}\")"
   ]
  }
 ],
 "metadata": {
  "kernelspec": {
   "display_name": "devenv",
   "language": "python",
   "name": "devenv"
  },
  "language_info": {
   "codemirror_mode": {
    "name": "ipython",
    "version": 3
   },
   "file_extension": ".py",
   "mimetype": "text/x-python",
   "name": "python",
   "nbconvert_exporter": "python",
   "pygments_lexer": "ipython3",
   "version": "3.11.5"
  }
 },
 "nbformat": 4,
 "nbformat_minor": 5
}
